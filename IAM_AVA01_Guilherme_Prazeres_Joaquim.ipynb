{
 "cells": [
  {
   "cell_type": "markdown",
   "metadata": {},
   "source": [
    "# Avaliação 1"
   ]
  },
  {
   "cell_type": "markdown",
   "metadata": {},
   "source": [
    "Essa avaliação consiste em uma analise do data set: “Iris Flower Data Set”\n",
    "\n",
    "Alunos: Guilherme Prazeres Matos de Souza e Joaquim joca da Silva"
   ]
  },
  {
   "cell_type": "markdown",
   "metadata": {},
   "source": [
    "## Questão 1"
   ]
  },
  {
   "cell_type": "code",
   "execution_count": 1,
   "metadata": {},
   "outputs": [],
   "source": [
    "# Blibliotecas necessarias e dependencias\n",
    "\n",
    "import matplotlib.pyplot as plt\n",
    "import pandas as pd\n",
    "\n",
    "# Load CSV file into a pandas DataFrame\n",
    "iris = pd.read_csv('iris.csv')"
   ]
  },
  {
   "cell_type": "markdown",
   "metadata": {},
   "source": [
    "### a."
   ]
  },
  {
   "cell_type": "markdown",
   "metadata": {},
   "source": [
    "O data set apresenta atributos **Multivariados** <br>\n",
    "onde tem **4 Atributos preditivos e  1 Atributo Alvo**"
   ]
  },
  {
   "cell_type": "markdown",
   "metadata": {},
   "source": [
    "### b."
   ]
  },
  {
   "cell_type": "markdown",
   "metadata": {},
   "source": [
    "A classe é simbólica com escala **nominal**, pois ela representa com um nome a flor, já os outros 4 atributos, são numéricos, com escala **racional**, já que se tratam de medidas de dimensão, avaliados em centimetro como unidade."
   ]
  },
  {
   "cell_type": "markdown",
   "metadata": {},
   "source": [
    "### c."
   ]
  },
  {
   "cell_type": "markdown",
   "metadata": {},
   "source": [
    "Os dados ja estão balanceados como mostrado no grafico:"
   ]
  },
  {
   "cell_type": "code",
   "execution_count": 2,
   "metadata": {},
   "outputs": [
    {
     "data": {
      "image/png": "[encoded data removed]",
      "text/plain": [
       "<Figure size 800x600 with 1 Axes>"
      ]
     },
     "metadata": {},
     "output_type": "display_data"
    }
   ],
   "source": [
    "# Plot do grafico e contagem\n",
    "type_counts = iris['species'].value_counts()\n",
    "\n",
    "# Plotting\n",
    "type_counts.plot(kind='bar', figsize=(8, 6))\n",
    "plt.title('Quantidade de cada especie')\n",
    "plt.xlabel('Tipo')\n",
    "plt.ylabel('Amostras')\n",
    "plt.xticks(rotation=0)\n",
    "\n",
    "# Adicionando grid e ajustando o layout\n",
    "plt.grid(True, axis='y', linestyle='--', alpha=0.7)\n",
    "plt.tight_layout()\n",
    "\n",
    "plt.show()"
   ]
  },
  {
   "cell_type": "markdown",
   "metadata": {},
   "source": [
    "Realizando os calculos podemos ver as estatiscas pertinentes sobre a data base <br>\n",
    "Podemos ver a média de cada especie de flor"
   ]
  },
  {
   "cell_type": "code",
   "execution_count": null,
   "metadata": {},
   "outputs": [],
   "source": [
    "# Calculo da media\n",
    "\n",
    "species_names = {0: 'setosa', 1: 'versicolor', 2: 'virginica'}\n",
    "iris['species'] = iris.index.map(lambda x: species_names[x // 50])\n",
    "\n",
    "# Calculando a média de cada atributo por tipo de flor\n",
    "mean_by_species = iris.groupby('species').mean()\n",
    "\n",
    "# # Definindo uma paleta de cores em tons de azul escuro\n",
    "# colors = ['#1f77b4', '#2ca02c', '#17becf']\n",
    "\n",
    "# # Plotando a média de cada atributo por tipo de flor com as cores definidas\n",
    "# mean_by_species.plot(kind='bar', figsize=(10, 6), color=colors)\n",
    "# plt.title('Média de Atributos por Tipo de Flor')\n",
    "# plt.xlabel('Tipo de Flor')\n",
    "# plt.ylabel('Média')\n",
    "# plt.xticks(rotation=0)\n",
    "# plt.show()\n",
    "\n",
    "\n",
    "print(mean_by_species)\n"
   ]
  },
  {
   "cell_type": "markdown",
   "metadata": {},
   "source": [
    "Calculando o Desvio padrão dos dados"
   ]
  },
  {
   "cell_type": "code",
   "execution_count": null,
   "metadata": {},
   "outputs": [],
   "source": [
    "# Calculo do desvio padrão\n",
    "species_names = {0: 'setosa', 1: 'versicolor', 2: 'virginica'}\n",
    "iris['species'] = iris.index.map(lambda x: species_names[x // 50])\n",
    "\n",
    "# Calculando o desvio padrão de cada atributo por tipo de flor\n",
    "std_by_species = iris.groupby('species').std()\n",
    "\n",
    "# # Definindo uma paleta de cores\n",
    "# colors = ['#0C73AD', '#0C3FAD', '#22AE31','#1E5824']\n",
    "\n",
    "# # Plotando o desvio padrão de cada atributo por tipo de flor com as cores definidas\n",
    "# std_by_species.plot(kind='bar', figsize=(10, 6), color=colors)\n",
    "# plt.title('Desvio Padrão de Atributos por Tipo de Flor')\n",
    "# plt.xlabel('Tipo de Flor')\n",
    "# plt.ylabel('Desvio Padrão')\n",
    "# plt.xticks(rotation=0)\n",
    "\n",
    "# # Adicionando grid e ajustando o layout\n",
    "# plt.grid(True, axis='y', linestyle='--', alpha=0.7)\n",
    "# plt.tight_layout()\n",
    "\n",
    "# # plt.show()\n",
    "\n",
    "print(std_by_species)\n"
   ]
  },
  {
   "cell_type": "markdown",
   "metadata": {},
   "source": [
    "Calculando a mediana para cada atributo preditivo"
   ]
  },
  {
   "cell_type": "code",
   "execution_count": null,
   "metadata": {},
   "outputs": [],
   "source": [
    "# Calculo a mediana\n",
    "species_names = {0: 'setosa', 1: 'versicolor', 2: 'virginica'}\n",
    "iris['species'] = iris.index.map(lambda x: species_names[x // 50])\n",
    "\n",
    "# Calculando a mediana de cada atributo por tipo de flor\n",
    "median_by_species = iris.groupby('species').median()\n",
    "\n",
    "# # Definindo uma paleta de cores em tons de azul escuro\n",
    "# colors = ['#0C73AD', '#0C3FAD', '#22AE31','#1E5824']\n",
    "\n",
    "# # Plotando a mediana de cada atributo por tipo de flor com as cores definidas\n",
    "# median_by_species.plot(kind='bar', figsize=(10, 6), color=colors)\n",
    "# plt.title('Mediana de Atributos por Tipo de Flor')\n",
    "# plt.xlabel('Tipo de Flor')\n",
    "# plt.ylabel('Mediana')\n",
    "# plt.xticks(rotation=0)\n",
    "\n",
    "# # Adicionando grid e ajustando o layout\n",
    "# plt.grid(True, axis='y', linestyle='--', alpha=0.7)\n",
    "# plt.tight_layout()\n",
    "# # plt.show()\n",
    "\n",
    "print(median_by_species)\n",
    "\n"
   ]
  },
  {
   "cell_type": "markdown",
   "metadata": {},
   "source": [
    "Calculando a obliquidade dos dados"
   ]
  },
  {
   "cell_type": "code",
   "execution_count": 15,
   "metadata": {},
   "outputs": [
    {
     "ename": "IndexError",
     "evalue": "invalid index to scalar variable.",
     "output_type": "error",
     "traceback": [
      "\u001b[1;31m---------------------------------------------------------------------------\u001b[0m",
      "\u001b[1;31mIndexError\u001b[0m                                Traceback (most recent call last)",
      "Cell \u001b[1;32mIn[15], line 22\u001b[0m\n\u001b[0;32m     19\u001b[0m skewness \u001b[38;5;241m=\u001b[39m ((iris[column] \u001b[38;5;241m-\u001b[39m iris[column]\u001b[38;5;241m.\u001b[39mmean()) \u001b[38;5;241m/\u001b[39m iris[column]\u001b[38;5;241m.\u001b[39mstd())\u001b[38;5;241m.\u001b[39mpow(\u001b[38;5;241m3\u001b[39m)\u001b[38;5;241m.\u001b[39mmean()\n\u001b[0;32m     21\u001b[0m \u001b[38;5;66;03m# Plotando o histograma\u001b[39;00m\n\u001b[1;32m---> 22\u001b[0m plt\u001b[38;5;241m.\u001b[39mhist(\u001b[43mskewness\u001b[49m\u001b[43m[\u001b[49m\u001b[43mcolumn\u001b[49m\u001b[43m]\u001b[49m, bins\u001b[38;5;241m=\u001b[39mbins, color\u001b[38;5;241m=\u001b[39m\u001b[38;5;124m'\u001b[39m\u001b[38;5;124mblue\u001b[39m\u001b[38;5;124m'\u001b[39m, alpha\u001b[38;5;241m=\u001b[39m\u001b[38;5;241m0.7\u001b[39m, edgecolor\u001b[38;5;241m=\u001b[39m\u001b[38;5;124m'\u001b[39m\u001b[38;5;124mblack\u001b[39m\u001b[38;5;124m'\u001b[39m, density\u001b[38;5;241m=\u001b[39m\u001b[38;5;28;01mFalse\u001b[39;00m)\n\u001b[0;32m     24\u001b[0m \u001b[38;5;66;03m# Configurando o título e os rótulos dos eixos\u001b[39;00m\n\u001b[0;32m     25\u001b[0m plt\u001b[38;5;241m.\u001b[39mtitle(\u001b[38;5;124mf\u001b[39m\u001b[38;5;124m'\u001b[39m\u001b[38;5;132;01m{\u001b[39;00mcolumn\u001b[38;5;132;01m}\u001b[39;00m\u001b[38;5;124m'\u001b[39m)\n",
      "\u001b[1;31mIndexError\u001b[0m: invalid index to scalar variable."
     ]
    },
    {
     "data": {
      "text/plain": [
       "<Figure size 1000x600 with 0 Axes>"
      ]
     },
     "metadata": {},
     "output_type": "display_data"
    }
   ],
   "source": [
    "# Definindo as colunas numéricas para plotar o histograma\n",
    "numeric_columns = [col for col in iris.columns if iris[col].dtype != 'object']\n",
    "\n",
    "\n",
    "# Plotando gráfico de colunas para cada coluna numérica\n",
    "for column in numeric_columns:\n",
    "    plt.figure(figsize=(10, 6))\n",
    "    \n",
    "    # Definindo o número de bins e os limites do histograma\n",
    "    num_bins = 30\n",
    "    min_value = iris[column].min()\n",
    "    max_value = iris[column].max()\n",
    "    bin_width = (max_value - min_value) / num_bins\n",
    "    \n",
    "    # Calculando os limites dos bins\n",
    "    bins = [min_value + i * bin_width for i in range(num_bins+1)]\n",
    "    \n",
    "    # Calculando a obliquidade\n",
    "    skewness = ((iris[column] - iris[column].mean()) / iris[column].std()).pow(3).mean()\n",
    "\n",
    "    # Plotando o histograma\n",
    "    plt.hist(skewness, bins=bins, color='blue', alpha=0.7, edgecolor='black', density=False)\n",
    "    \n",
    "    # Configurando o título e os rótulos dos eixos\n",
    "    plt.title(f'{column}')\n",
    "    plt.xlabel('Intervalo de valores')\n",
    "    plt.ylabel('Quantidade de Amostras')\n",
    "    \n",
    "    # Exibindo o gráfico\n",
    "    plt.grid(True, axis='y', linestyle='--', alpha=0.7)\n",
    "    plt.show()\n",
    "\n",
    "\n",
    "\n"
   ]
  },
  {
   "cell_type": "markdown",
   "metadata": {},
   "source": [
    "### f."
   ]
  },
  {
   "cell_type": "code",
   "execution_count": null,
   "metadata": {},
   "outputs": [],
   "source": [
    "# Mapeando o índice das linhas para o nome da espécie\n",
    "species_names = {0: 'setosa', 1: 'versicolor', 2: 'virginica'}\n",
    "iris['species'] = iris.index.map(lambda x: species_names[x // 50])\n",
    "\n",
    "# Definindo uma paleta de cores\n",
    "colors = ['#0C73AD', '#0C3FAD', '#22AE31','#1E5824']\n",
    "\n",
    "# Lista de atributos\n",
    "attributes = iris.columns[:-1]\n",
    "\n",
    "# Criando um único boxplot para cada espécie\n",
    "for species, color in zip(species_names.values(), colors):\n",
    "    subset = iris[iris['species'] == species][attributes]\n",
    "    \n",
    "    # Configurando o boxplot\n",
    "    subset.boxplot(rot=0, grid=False, widths=0.5, patch_artist=True, boxprops=dict(facecolor=color))\n",
    "    \n",
    "    plt.title(f'Boxplot dos Atributos para {species}')\n",
    "    plt.xlabel('Atributos')\n",
    "    plt.ylabel('Valores')\n",
    "    \n",
    "    # Mostrando o boxplot\n",
    "    plt.grid(True, axis='y', linestyle='--', alpha=0.7)\n",
    "    plt.show()\n",
    "\n"
   ]
  }
 ],
 "metadata": {
  "kernelspec": {
   "display_name": "Python 3",
   "language": "python",
   "name": "python3"
  },
  "language_info": {
   "codemirror_mode": {
    "name": "ipython",
    "version": 3
   },
   "file_extension": ".py",
   "mimetype": "text/x-python",
   "name": "python",
   "nbconvert_exporter": "python",
   "pygments_lexer": "ipython3",
   "version": "3.12.2"
  }
 },
 "nbformat": 4,
 "nbformat_minor": 2
}
