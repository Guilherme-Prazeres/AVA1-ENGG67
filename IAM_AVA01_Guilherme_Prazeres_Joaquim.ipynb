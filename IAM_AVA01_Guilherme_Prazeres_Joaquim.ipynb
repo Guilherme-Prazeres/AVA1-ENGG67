{
 "cells": [
  {
   "cell_type": "markdown",
   "metadata": {},
   "source": [
    "# Avaliação 1"
   ]
  },
  {
   "cell_type": "markdown",
   "metadata": {},
   "source": [
    "Essa avaliação consiste em uma analise do data set: “Iris Flower Data Set”\n",
    "\n",
    "Alunos: Guilherme Prazeres Matos de Souza e Joaquim joca da Silva"
   ]
  },
  {
   "cell_type": "markdown",
   "metadata": {},
   "source": [
    "## Questão 1"
   ]
  },
  {
   "cell_type": "code",
   "execution_count": null,
   "metadata": {},
   "outputs": [],
   "source": [
    "# Blibliotecas necessarias e dependencias\n",
    "\n",
    "import matplotlib.pyplot as plt\n",
    "import pandas as pd\n",
    "\n",
    "# Load CSV file into a pandas DataFrame\n",
    "iris = pd.read_csv('iris.csv')"
   ]
  },
  {
   "cell_type": "markdown",
   "metadata": {},
   "source": [
    "### a."
   ]
  },
  {
   "cell_type": "markdown",
   "metadata": {},
   "source": [
    "O data set apresenta atributos **Multivariados** <br>\n",
    "onde tem **4 Atributos preditivos e  1 Atributo Alvo**"
   ]
  },
  {
   "cell_type": "markdown",
   "metadata": {},
   "source": [
    "### b."
   ]
  },
  {
   "cell_type": "markdown",
   "metadata": {},
   "source": [
    "A classe é simbólica com escala **nominal**, pois ela representa com um nome a flor, já os outros 4 atributos, são numéricos, com escala **racional**, já que se tratam de medidas de dimensão, avaliados em centimetro como unidade."
   ]
  },
  {
   "cell_type": "markdown",
   "metadata": {},
   "source": [
    "### c."
   ]
  },
  {
   "cell_type": "markdown",
   "metadata": {},
   "source": [
    "Os dados ja estão balanceados como mostrado no grafico:"
   ]
  },
  {
   "cell_type": "code",
   "execution_count": null,
   "metadata": {},
   "outputs": [],
   "source": [
    "# Plot do grafico e contagem\n",
    "type_counts = db['species'].value_counts()\n",
    "\n",
    "# Plotting\n",
    "type_counts.plot(kind='bar', figsize=(8, 6))\n",
    "plt.title('Quantidade de cada especie')\n",
    "plt.xlabel('Tipo')\n",
    "plt.ylabel('Amostras')\n",
    "plt.xticks(rotation=0)\n",
    "\n",
    "# Adicionando grid e ajustando o layout\n",
    "plt.grid(True, axis='y', linestyle='--', alpha=0.7)\n",
    "plt.tight_layout()\n",
    "\n",
    "plt.show()"
   ]
  },
  {
   "cell_type": "markdown",
   "metadata": {},
   "source": [
    "Realizando os calculos podemos ver as estatiscas pertinentes sobre a data base <br>\n",
    "Podemos ver a média de cada especie de flor"
   ]
  },
  {
   "cell_type": "code",
   "execution_count": null,
   "metadata": {},
   "outputs": [],
   "source": [
    "# Calculo da media\n",
    "\n",
    "species_names = {0: 'setosa', 1: 'versicolor', 2: 'virginica'}\n",
    "iris['species'] = iris.index.map(lambda x: species_names[x // 50])\n",
    "\n",
    "# Calculando a média de cada atributo por tipo de flor\n",
    "mean_by_species = iris.groupby('species').mean()\n",
    "\n",
    "# # Definindo uma paleta de cores em tons de azul escuro\n",
    "# colors = ['#1f77b4', '#2ca02c', '#17becf']\n",
    "\n",
    "# # Plotando a média de cada atributo por tipo de flor com as cores definidas\n",
    "# mean_by_species.plot(kind='bar', figsize=(10, 6), color=colors)\n",
    "# plt.title('Média de Atributos por Tipo de Flor')\n",
    "# plt.xlabel('Tipo de Flor')\n",
    "# plt.ylabel('Média')\n",
    "# plt.xticks(rotation=0)\n",
    "# plt.show()\n",
    "\n",
    "\n",
    "print(mean_by_species)\n"
   ]
  },
  {
   "cell_type": "markdown",
   "metadata": {},
   "source": [
    "Calculando o Desvio padrão dos dados"
   ]
  },
  {
   "cell_type": "code",
   "execution_count": null,
   "metadata": {},
   "outputs": [],
   "source": [
    "# Calculo do desvio padrão\n",
    "species_names = {0: 'setosa', 1: 'versicolor', 2: 'virginica'}\n",
    "iris['species'] = iris.index.map(lambda x: species_names[x // 50])\n",
    "\n",
    "# Calculando o desvio padrão de cada atributo por tipo de flor\n",
    "std_by_species = iris.groupby('species').std()\n",
    "\n",
    "# # Definindo uma paleta de cores\n",
    "# colors = ['#0C73AD', '#0C3FAD', '#22AE31','#1E5824']\n",
    "\n",
    "# # Plotando o desvio padrão de cada atributo por tipo de flor com as cores definidas\n",
    "# std_by_species.plot(kind='bar', figsize=(10, 6), color=colors)\n",
    "# plt.title('Desvio Padrão de Atributos por Tipo de Flor')\n",
    "# plt.xlabel('Tipo de Flor')\n",
    "# plt.ylabel('Desvio Padrão')\n",
    "# plt.xticks(rotation=0)\n",
    "\n",
    "# # Adicionando grid e ajustando o layout\n",
    "# plt.grid(True, axis='y', linestyle='--', alpha=0.7)\n",
    "# plt.tight_layout()\n",
    "\n",
    "# # plt.show()\n",
    "\n",
    "print(std_by_species)\n"
   ]
  },
  {
   "cell_type": "markdown",
   "metadata": {},
   "source": [
    "Calculando a mediana para cada atributo preditivo"
   ]
  },
  {
   "cell_type": "code",
   "execution_count": null,
   "metadata": {},
   "outputs": [],
   "source": [
    "# Calculo a mediana\n",
    "species_names = {0: 'setosa', 1: 'versicolor', 2: 'virginica'}\n",
    "iris['species'] = iris.index.map(lambda x: species_names[x // 50])\n",
    "\n",
    "# Calculando a mediana de cada atributo por tipo de flor\n",
    "median_by_species = iris.groupby('species').median()\n",
    "\n",
    "# # Definindo uma paleta de cores em tons de azul escuro\n",
    "# colors = ['#0C73AD', '#0C3FAD', '#22AE31','#1E5824']\n",
    "\n",
    "# # Plotando a mediana de cada atributo por tipo de flor com as cores definidas\n",
    "# median_by_species.plot(kind='bar', figsize=(10, 6), color=colors)\n",
    "# plt.title('Mediana de Atributos por Tipo de Flor')\n",
    "# plt.xlabel('Tipo de Flor')\n",
    "# plt.ylabel('Mediana')\n",
    "# plt.xticks(rotation=0)\n",
    "\n",
    "# # Adicionando grid e ajustando o layout\n",
    "# plt.grid(True, axis='y', linestyle='--', alpha=0.7)\n",
    "# plt.tight_layout()\n",
    "# # plt.show()\n",
    "\n",
    "print(median_by_species)\n",
    "\n"
   ]
  },
  {
   "cell_type": "markdown",
   "metadata": {},
   "source": [
    "Calculando a obliquidade dos dados"
   ]
  },
  {
   "cell_type": "code",
   "execution_count": null,
   "metadata": {},
   "outputs": [],
   "source": [
    "Versicolor = iris[iris['species'] == 'versicolor']\n",
    "Setosa = iris[iris['species'] == 'setosa']\n",
    "Virginica = iris[iris['species'] == 'virginica']\n",
    "\n",
    "def skewness(db):\n",
    "    # Definindo as colunas numéricas para plotar o histograma\n",
    "    numeric_columns = [col for col in db.columns if db[col].dtype != 'object']\n",
    "\n",
    "    # Plotando gráfico de colunas para cada coluna numérica\n",
    "    for column in numeric_columns:\n",
    "        plt.figure(figsize=(10, 6))\n",
    "        \n",
    "        # Definindo o número de bins e os limites do histograma\n",
    "        num_bins = 60  # aumentei o número de bins para torná-los mais estreitos\n",
    "        min_value = db[column].min()\n",
    "        max_value = db[column].max()\n",
    "        bin_width = (max_value - min_value) / num_bins\n",
    "        \n",
    "        # Calculando os limites dos bins\n",
    "        bins = [min_value + i * bin_width for i in range(num_bins+1)]\n",
    "        \n",
    "        # Calculando a obliquidade\n",
    "        skewness_cal = ((db[column] - db[column].mean()) / db[column].std()).pow(3).mean()\n",
    "        if skewness_cal > 0: \n",
    "            skewness = 'A distribuição concentra-se mais do lado esquerdo'\n",
    "        elif skewness_cal < 0:\n",
    "            skewness = 'A distribuição se concentra mais ao lado direito'\n",
    "        else:\n",
    "            skewness = 'A distribuição é simétrica'\n",
    "        \n",
    "        # Plotando o histograma\n",
    "        plt.hist(db[column], bins=bins, color='blue', alpha=0.7, edgecolor='black', density=False)\n",
    "        \n",
    "        # Configurando o título e os rótulos dos eixos\n",
    "        plt.title(f'{column}')\n",
    "        plt.xlabel('Intervalo de valores')\n",
    "        plt.ylabel('Quantidade de Amostras')\n",
    "        plt.xticks(rotation=45)  # Rotaciona os rótulos do eixo x para melhor visualização\n",
    "        plt.grid(True, axis='y', linestyle='--', alpha=0.7)\n",
    "        plt.tight_layout()  # Ajusta o layout para evitar sobreposição\n",
    "        plt.show()\n",
    "\n",
    "        print(f'{skewness}')\n",
    "\n",
    "\n",
    "skewness(Versicolor)\n",
    "\n",
    "\n"
   ]
  },
  {
   "cell_type": "markdown",
   "metadata": {},
   "source": [
    "### f."
   ]
  },
  {
   "cell_type": "code",
   "execution_count": null,
   "metadata": {},
   "outputs": [],
   "source": [
    "# Mapeando o índice das linhas para o nome da espécie\n",
    "species_names = {0: 'setosa', 1: 'versicolor', 2: 'virginica'}\n",
    "iris['species'] = iris.index.map(lambda x: species_names[x // 50])\n",
    "\n",
    "# Definindo uma paleta de cores\n",
    "colors = ['#0C73AD', '#0C3FAD', '#22AE31','#1E5824']\n",
    "\n",
    "# Lista de atributos\n",
    "attributes = iris.columns[:-1]\n",
    "\n",
    "# Criando um único boxplot para cada espécie\n",
    "for species, color in zip(species_names.values(), colors):\n",
    "    subset = iris[iris['species'] == species][attributes]\n",
    "    \n",
    "    # Configurando o boxplot\n",
    "    subset.boxplot(rot=0, grid=False, widths=0.5, patch_artist=True, boxprops=dict(facecolor=color))\n",
    "    \n",
    "    plt.title(f'Boxplot dos Atributos para {species}')\n",
    "    plt.xlabel('Atributos')\n",
    "    plt.ylabel('Valores')\n",
    "    \n",
    "    # Mostrando o boxplot\n",
    "    plt.grid(True, axis='y', linestyle='--', alpha=0.7)\n",
    "    plt.show()\n",
    "\n"
   ]
  }
 ],
 "metadata": {
  "kernelspec": {
   "display_name": "Python 3",
   "language": "python",
   "name": "python3"
  },
  "language_info": {
   "codemirror_mode": {
    "name": "ipython",
    "version": 3
   },
   "file_extension": ".py",
   "mimetype": "text/x-python",
   "name": "python",
   "nbconvert_exporter": "python",
   "pygments_lexer": "ipython3",
   "version": "3.12.2"
  }
 },
 "nbformat": 4,
 "nbformat_minor": 2
}
