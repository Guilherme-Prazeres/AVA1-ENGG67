{
 "cells": [
  {
   "cell_type": "markdown",
   "metadata": {},
   "source": [
    "# Avaliação 1"
   ]
  },
  {
   "cell_type": "markdown",
   "metadata": {},
   "source": [
    "Essa avaliação consiste em uma analise do data set: “Iris Flower Data Set”\n",
    "\n",
    "Alunos: Guilherme Prazeres Matos de Souza e Joaquim joca da Silva"
   ]
  },
  {
   "cell_type": "markdown",
   "metadata": {},
   "source": [
    "## Questão 1"
   ]
  },
  {
   "cell_type": "code",
   "execution_count": 1,
   "metadata": {},
   "outputs": [],
   "source": [
    "# Blibliotecas necessarias e dependencias\n",
    "\n",
    "import matplotlib.pyplot as plt\n",
    "import pandas as pd\n",
    "\n",
    "# Load CSV file into a pandas DataFrame\n",
    "iris = pd.read_csv('iris.csv')"
   ]
  },
  {
   "cell_type": "markdown",
   "metadata": {},
   "source": [
    "### a."
   ]
  },
  {
   "cell_type": "markdown",
   "metadata": {},
   "source": [
    "O data set apresenta atributos **Multivariados** <br>\n",
    "onde tem **4 Atributos preditivos e  1 Atributo Alvo**"
   ]
  },
  {
   "cell_type": "markdown",
   "metadata": {},
   "source": [
    "### b."
   ]
  },
  {
   "cell_type": "markdown",
   "metadata": {},
   "source": [
    "A classe é simbólica com escala **nominal**, pois ela representa com um nome a flor, já os outros 4 atributos, são numéricos, com escala **racional**, já que se tratam de medidas de dimensão, avaliados em centimetro como unidade."
   ]
  },
  {
   "cell_type": "markdown",
   "metadata": {},
   "source": [
    "### c."
   ]
  },
  {
   "cell_type": "markdown",
   "metadata": {},
   "source": [
    "Os dados ja estão balanceados como mostrado no grafico:"
   ]
  },
  {
   "cell_type": "code",
   "execution_count": null,
   "metadata": {},
   "outputs": [],
   "source": [
    "# Count how many types are in the data set\n",
    "type_counts = iris['species'].value_counts()\n",
    "\n",
    "# Plotting\n",
    "type_counts.plot(kind='bar', figsize=(8, 6))\n",
    "plt.title('Quantidade de cada especie')\n",
    "plt.xlabel('Tipo')\n",
    "plt.ylabel('Quantidade')\n",
    "plt.xticks(rotation=0)\n",
    "plt.show()"
   ]
  },
  {
   "cell_type": "markdown",
   "metadata": {},
   "source": [
    "Aqui podemos ver a média de cada especie de flor"
   ]
  },
  {
   "cell_type": "code",
   "execution_count": 11,
   "metadata": {},
   "outputs": [
    {
     "data": {
      "image/png": "[encoded data removed]",
      "text/plain": [
       "<Figure size 800x600 with 1 Axes>"
      ]
     },
     "metadata": {},
     "output_type": "display_data"
    },
    {
     "name": "stdout",
     "output_type": "stream",
     "text": [
      "5.936 5.005999999999999 6.587999999999998\n"
     ]
    }
   ],
   "source": [
    "def media(df, attribute, species):\n",
    "    df_specie = df[df['species'] == species]\n",
    "    \n",
    "    if len(df_specie) == 0:\n",
    "        return \"Sem dados para a especie selecionada\"\n",
    "    \n",
    "    sum_values = 0\n",
    "    for value in df_specie[attribute]:\n",
    "        sum_values += value\n",
    "        \n",
    "    result = sum_values / len(df_specie)\n",
    "    return result\n",
    "\n",
    "media_setosa = media(iris, 'sepal_length', 'setosa')\n",
    "media_versicolor = media(iris, 'sepal_length', 'versicolor') \n",
    "media_virginica = media(iris, 'sepal_length', 'virginica')\n",
    "\n",
    "# Create a DataFrame\n",
    "data = {\n",
    "    'Species': ['Setosa', 'Versicolor', 'Virginica'],\n",
    "    'Sepal Length Mean': [media_setosa, media_versicolor, media_virginica]\n",
    "}\n",
    "df = pd.DataFrame(data)\n",
    "\n",
    "# Plot\n",
    "plt.figure(figsize=(8, 6))\n",
    "plt.grid(True)\n",
    "plt.bar(df['Species'], df['Sepal Length Mean'], color=['#1f77b4', '#1f77b4', '#1f77b4'], width= 0.4)\n",
    "plt.title('Média do comprimento da petala para cada especie')\n",
    "plt.xlabel('Especie')\n",
    "plt.ylabel('Média de comprimento')\n",
    "plt.tight_layout()\n",
    "plt.show()\n",
    "\n",
    "print(media_versicolor, media_setosa, media_virginica)\n"
   ]
  },
  {
   "cell_type": "markdown",
   "metadata": {},
   "source": [
    "Calculando a mediana para cada atributo preditivo"
   ]
  },
  {
   "cell_type": "code",
   "execution_count": null,
   "metadata": {},
   "outputs": [],
   "source": [
    "def mediana(df, atribute, species):\n",
    "\n",
    "    if len(df) == 0:\n",
    "        return \"Sem dados para a especie selecionada\"    \n",
    "\n",
    "    # Sort the dataset to be ascending\n",
    "    df_sorted = df.sort_values(by=atribute, ascending=True) \n",
    "    \n",
    "    # Sort rows that match the flower_type selected\n",
    "    df_specie = df_sorted[df_sorted['species'] == species] \n",
    "    \n",
    "    # Calculates the median\n",
    "    if len(df_specie)% 2 == 0:\n",
    "        result = (df_specie[atribute].iloc[len(df_specie) // 2] + df_specie[atribute].iloc[len(df_specie)// 2 + 1]) / 2 \n",
    "        return result\n",
    "    else:\n",
    "        result = df_specie[atribute].iloc[len(df_specie) // 2]\n",
    "        return result\n",
    "    \n",
    "print(mediana(iris,'sepal_length', 'setosa'))\n",
    "print(mediana(iris,'sepal_width', 'versicolor'))\n",
    "print(mediana(iris,'petal_length', 'setosa'))\n",
    "print(mediana(iris,'petal_width', 'setosa'))\n"
   ]
  },
  {
   "cell_type": "markdown",
   "metadata": {},
   "source": [
    "### f."
   ]
  },
  {
   "cell_type": "code",
   "execution_count": null,
   "metadata": {},
   "outputs": [],
   "source": [
    "iris.boxplot(figsize=(10, 6))\n",
    "plt.title('Boxplot of DataFrame')\n",
    "plt.ylabel('Value')\n",
    "plt.xticks(rotation=0)\n",
    "plt.grid(True)\n",
    "plt.show()"
   ]
  }
 ],
 "metadata": {
  "kernelspec": {
   "display_name": "Python 3",
   "language": "python",
   "name": "python3"
  },
  "language_info": {
   "codemirror_mode": {
    "name": "ipython",
    "version": 3
   },
   "file_extension": ".py",
   "mimetype": "text/x-python",
   "name": "python",
   "nbconvert_exporter": "python",
   "pygments_lexer": "ipython3",
   "version": "3.12.2"
  }
 },
 "nbformat": 4,
 "nbformat_minor": 2
}
