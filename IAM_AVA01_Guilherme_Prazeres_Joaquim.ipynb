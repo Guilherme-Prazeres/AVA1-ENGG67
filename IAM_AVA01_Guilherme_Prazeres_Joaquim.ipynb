{
 "cells": [
  {
   "cell_type": "markdown",
   "metadata": {},
   "source": [
    "# Avaliação 1"
   ]
  },
  {
   "cell_type": "markdown",
   "metadata": {},
   "source": [
    "Essa avaliação consiste em uma analise do data set: “Iris Flower Data Set”\n",
    "\n",
    "Alunos: Guilherme Prazeres Matos de Souza e Joaquim joca da Silva"
   ]
  },
  {
   "cell_type": "markdown",
   "metadata": {},
   "source": [
    "## Questão 1"
   ]
  },
  {
   "cell_type": "code",
   "execution_count": null,
   "metadata": {},
   "outputs": [],
   "source": [
    "# Blibliotecas necessarias e dependencias\n",
    "\n",
    "import matplotlib.pyplot as plt\n",
    "import pandas as pd\n",
    "\n",
    "# Load CSV file into a pandas DataFrame\n",
    "iris = pd.read_csv('iris.csv')"
   ]
  },
  {
   "cell_type": "markdown",
   "metadata": {},
   "source": [
    "### a."
   ]
  },
  {
   "cell_type": "markdown",
   "metadata": {},
   "source": [
    "O data set apresenta atributos **Multivariados** <br>\n",
    "onde tem **4 Atributos preditivos e  1 Atributo Alvo**"
   ]
  },
  {
   "cell_type": "markdown",
   "metadata": {},
   "source": [
    "### b."
   ]
  },
  {
   "cell_type": "markdown",
   "metadata": {},
   "source": [
    "A classe é simbólica com escala **nominal**, pois ela representa com um nome a flor, já os outros 4 atributos, são numéricos, com escala **racional**, já que se tratam de medidas de dimensão, avaliados em centimetro como unidade."
   ]
  },
  {
   "cell_type": "markdown",
   "metadata": {},
   "source": [
    "### c."
   ]
  },
  {
   "cell_type": "markdown",
   "metadata": {},
   "source": [
    "#### Balanceameto dos dados"
   ]
  },
  {
   "cell_type": "code",
   "execution_count": null,
   "metadata": {},
   "outputs": [],
   "source": [
    "# Plot do grafico e contagem\n",
    "type_counts = iris['species'].value_counts()\n",
    "\n",
    "# Plotting\n",
    "type_counts.plot(kind='bar', figsize=(8, 6))\n",
    "plt.title('Quantidade de cada especie')\n",
    "plt.xlabel('Tipo')\n",
    "plt.ylabel('Amostras')\n",
    "plt.xticks(rotation=0)\n",
    "\n",
    "# Adicionando grid e ajustando o layout\n",
    "plt.grid(True, axis='y', linestyle='--', alpha=0.7)\n",
    "plt.tight_layout()\n",
    "\n",
    "plt.show()"
   ]
  },
  {
   "cell_type": "markdown",
   "metadata": {},
   "source": [
    "Como pode ser observado no grafico acima, os dados já estão balanceados tendo 50 amostras de cada espécie"
   ]
  },
  {
   "cell_type": "markdown",
   "metadata": {},
   "source": [
    "Realizando os calculos podemos ver as estatiscas pertinentes sobre a data base <br>\n",
    "#### Média dos atributos de cada especie de flor"
   ]
  },
  {
   "cell_type": "code",
   "execution_count": null,
   "metadata": {},
   "outputs": [],
   "source": [
    "# Calculo da media\n",
    "\n",
    "species_names = {0: 'setosa', 1: 'versicolor', 2: 'virginica'}\n",
    "iris['species'] = iris.index.map(lambda x: species_names[x // 50])\n",
    "\n",
    "# Calculando a média de cada atributo por tipo de flor\n",
    "mean_by_species = iris.groupby('species').mean().round(2)\n",
    "\n",
    "print(f'{mean_by_species}'.format(.1))\n"
   ]
  },
  {
   "cell_type": "markdown",
   "metadata": {},
   "source": [
    "#### O Desvio padrão dos atributos"
   ]
  },
  {
   "cell_type": "code",
   "execution_count": null,
   "metadata": {},
   "outputs": [],
   "source": [
    "# Calculo do desvio padrão\n",
    "species_names = {0: 'setosa', 1: 'versicolor', 2: 'virginica'}\n",
    "iris['species'] = iris.index.map(lambda x: species_names[x // 50])\n",
    "\n",
    "# Calculando o desvio padrão de cada atributo por tipo de flor\n",
    "std_by_species = iris.groupby('species').std().round(2)\n",
    "\n",
    "print(std_by_species)\n"
   ]
  },
  {
   "cell_type": "markdown",
   "metadata": {},
   "source": [
    "#### Calculando a mediana para cada atributo preditivo"
   ]
  },
  {
   "cell_type": "code",
   "execution_count": null,
   "metadata": {},
   "outputs": [],
   "source": [
    "# Calculo a mediana\n",
    "species_names = {0: 'setosa', 1: 'versicolor', 2: 'virginica'}\n",
    "iris['species'] = iris.index.map(lambda x: species_names[x // 50])\n",
    "\n",
    "# Calculando a mediana de cada atributo por tipo de flor\n",
    "median_by_species = iris.groupby('species').median().round(2)\n",
    "\n",
    "print(median_by_species)\n",
    "\n"
   ]
  },
  {
   "cell_type": "markdown",
   "metadata": {},
   "source": [
    "#### Calculando a obliquidade dos atributos"
   ]
  },
  {
   "cell_type": "code",
   "execution_count": null,
   "metadata": {},
   "outputs": [],
   "source": [
    "# Calculo da skewness\n",
    "Versicolor = iris[iris['species'] == 'versicolor']\n",
    "Setosa = iris[iris['species'] == 'setosa']\n",
    "Virginica = iris[iris['species'] == 'virginica']\n",
    "\n",
    "def skewness(db, species_name):\n",
    "    # Definindo as colunas numéricas para plotar o histograma\n",
    "    numeric_columns = [col for col in db.columns if db[col].dtype != 'object']\n",
    "    \n",
    "    fig, axs = plt.subplots(1, len(numeric_columns), figsize=(18, 6))\n",
    "    \n",
    "    # Plotando gráfico de colunas para cada coluna numérica\n",
    "    for idx, column in enumerate(numeric_columns):\n",
    "        \n",
    "        # Definindo o número de bins e os limites do histograma\n",
    "        num_bins = 12\n",
    "        min_value = db[column].min()\n",
    "        max_value = db[column].max()\n",
    "        bin_width = (max_value - min_value) / num_bins\n",
    "        \n",
    "        # Calculando os limites dos bins\n",
    "        bins = [min_value + i * bin_width for i in range(num_bins+1)]\n",
    "        \n",
    "        # Calculando a obliquidade\n",
    "        skewness_cal = (((db[column] - db[column].mean()) / db[column].std()).pow(3).mean()) * 10\n",
    "        aproxx_skew = int(skewness_cal)\n",
    "        if aproxx_skew != 0:\n",
    "            if skewness_cal > 0: \n",
    "                skewness = 'Obliquidade > 0'\n",
    "            elif skewness_cal < 0:\n",
    "                skewness = 'Obliquidade < 0 '\n",
    "        else:\n",
    "            skewness = 'Obliquidade ≅ 0'\n",
    "        \n",
    "        # Plotando o histograma\n",
    "        axs[idx].hist(db[column], bins=bins, color='blue', alpha=0.7, edgecolor='black', density=False)\n",
    "        \n",
    "        # Configurando o título e os rótulos dos eixos\n",
    "        axs[idx].set_title(f'{column}')\n",
    "        axs[idx].set_xlabel('Intervalo de valores')\n",
    "        axs[idx].set_ylabel('Quantidade de Amostras')\n",
    "        axs[idx].grid(True, axis='y', linestyle='--', alpha=0.7)\n",
    "        \n",
    "        axs[idx].text(0.05, 0.95, skewness, transform=axs[idx].transAxes, verticalalignment='top', bbox=dict(facecolor='white', alpha=0.7))\n",
    "        \n",
    "    plt.suptitle(f'Histogramas da espécie {species_name}', fontsize=16)\n",
    "    plt.tight_layout()\n",
    "    plt.show()\n",
    "\n",
    "# Plotando para cada espécie\n",
    "skewness(Versicolor, 'Versicolor')\n",
    "skewness(Setosa, 'Setosa')\n",
    "skewness(Virginica, 'Virginica')\n"
   ]
  },
  {
   "cell_type": "markdown",
   "metadata": {},
   "source": [
    "#### Calculando a Curtose dos atributos"
   ]
  },
  {
   "cell_type": "code",
   "execution_count": null,
   "metadata": {},
   "outputs": [],
   "source": [
    "# Calculo da skewness\n",
    "Versicolor = iris[iris['species'] == 'versicolor']\n",
    "Setosa = iris[iris['species'] == 'setosa']\n",
    "Virginica = iris[iris['species'] == 'virginica']\n",
    "\n",
    "def kurtosis(db, species_name):\n",
    "    # Definindo as colunas numéricas para plotar o histograma\n",
    "    numeric_columns = [col for col in db.columns if db[col].dtype != 'object']\n",
    "    \n",
    "    fig, axs = plt.subplots(1, len(numeric_columns), figsize=(18, 6))\n",
    "    \n",
    "    # Plotando gráfico de colunas para cada coluna numérica\n",
    "    for idx, column in enumerate(numeric_columns):\n",
    "        \n",
    "        # Definindo o número de bins e os limites do histograma\n",
    "        num_bins = 12\n",
    "        min_value = db[column].min()\n",
    "        max_value = db[column].max()\n",
    "        bin_width = (max_value - min_value) / num_bins\n",
    "        \n",
    "        # Calculando os limites dos bins\n",
    "        bins = [min_value + i * bin_width for i in range(num_bins+1)]\n",
    "        \n",
    "        # Calculando curtose\n",
    "        kurt_cal = (db[column].kurtosis()).round(2)\n",
    "        kurt_aprox = int(kurt_cal*10)\n",
    "        if kurt_aprox != 0:\n",
    "            if kurt_cal > 0: \n",
    "                kurt = f'Curtose > 0 | Curtose = {kurt_cal}'\n",
    "            elif kurt_cal < 0:\n",
    "                kurt = f'Curtose < 0 | Curtose = {kurt_cal}'\n",
    "        else:\n",
    "            kurt = f'Curtose ≅ 0 | Curtose = {kurt_cal}'\n",
    "        \n",
    "        # Plotando o histograma\n",
    "        axs[idx].hist(db[column], bins=bins, color='blue', alpha=0.7, edgecolor='black', density=False)\n",
    "        \n",
    "        # Configurando o título e os rótulos dos eixos\n",
    "        axs[idx].set_title(f'{column}')\n",
    "        axs[idx].set_xlabel('Intervalo de valores')\n",
    "        axs[idx].set_ylabel('Quantidade de Amostras')\n",
    "        axs[idx].grid(True, axis='y', linestyle='--', alpha=0.7)\n",
    "        \n",
    "        axs[idx].text(0.05, 0.95, kurt, transform=axs[idx].transAxes, verticalalignment='top', bbox=dict(facecolor='white', alpha=0.7))\n",
    "        \n",
    "    plt.suptitle(f'Histogramas da espécie {species_name}', fontsize=16)\n",
    "    plt.tight_layout()\n",
    "    plt.show()\n",
    "\n",
    "# Plotando para cada espécie\n",
    "kurtosis(Versicolor, 'Versicolor')\n",
    "kurtosis(Setosa, 'Setosa')\n",
    "kurtosis(Virginica, 'Virginica')\n"
   ]
  },
  {
   "cell_type": "markdown",
   "metadata": {},
   "source": [
    "### f."
   ]
  },
  {
   "cell_type": "markdown",
   "metadata": {},
   "source": [
    "#### Boxplot para cada atributo preditivo"
   ]
  },
  {
   "cell_type": "code",
   "execution_count": null,
   "metadata": {},
   "outputs": [],
   "source": [
    "# Plot do boxplot dos atributos preditivos de cada especie\n",
    "# Mapeando o índice das linhas para o nome da espécie\n",
    "species_names = {0: 'setosa', 1: 'versicolor', 2: 'virginica'}\n",
    "iris['species'] = iris.index.map(lambda x: species_names[x // 50])\n",
    "\n",
    "# Definindo uma paleta de cores\n",
    "colors = ['#0C73AD', '#0C3FAD', '#0CA5AD']\n",
    "\n",
    "# Lista de atributos\n",
    "attributes = iris.columns[:-1]\n",
    "\n",
    "# Criando subplots lado a lado para cada espécie\n",
    "fig, axs = plt.subplots(len(species_names), len(attributes), figsize=(18, 12))\n",
    "\n",
    "for i, species in enumerate(species_names.values()):\n",
    "    subset = iris[iris['species'] == species][attributes]\n",
    "    \n",
    "    for j, attribute in enumerate(attributes):\n",
    "        # axs[i, j].set_title(f'{attribute}')\n",
    "        # axs[i, j].set_ylabel('Valores')\n",
    "        axs[i, j].boxplot(subset[attribute], widths=0.5, patch_artist=True, boxprops=dict(facecolor=colors[i]))\n",
    " \n",
    "        # Removendo os ticks do eixo x para melhor visualização\n",
    "        axs[i, j].tick_params(axis='x', which='both', bottom=False, top=False, labelbottom=False)\n",
    "        \n",
    "        # Adicionando grade apenas no eixo y\n",
    "        axs[i, j].grid(True, axis='y', linestyle='--', alpha=0.7)\n",
    "        \n",
    "\n",
    "# Configurando os títulos dos eixos x e y\n",
    "for ax, col in zip(axs[0], attributes):\n",
    "    ax.set_title(col, fontsize=14, fontweight='bold')\n",
    "\n",
    "for ax, row in zip(axs[:,0], species_names.values()):\n",
    "    ax.set_ylabel(f'{row}', fontsize=14, fontweight='bold') \n",
    "\n",
    "# Ajustando o layout\n",
    "plt.tight_layout()\n",
    "plt.show()\n",
    "\n",
    "\n"
   ]
  },
  {
   "cell_type": "markdown",
   "metadata": {},
   "source": [
    "Após plotarmos os boxblot de cada atributo, podemos ver que existe a presença de outliers em alguns atributos <br>\n",
    "Sendo notados nas: <br>\n",
    "*  Setosa: Na petal_lenght e petal_width <br>\n",
    "*  Versicolor: Na petal_lenght <br>\n",
    "*  Virginica: Na sepal_lenght e sepal_width <br>"
   ]
  },
  {
   "cell_type": "code",
   "execution_count": null,
   "metadata": {},
   "outputs": [],
   "source": []
  }
 ],
 "metadata": {
  "kernelspec": {
   "display_name": "Python 3",
   "language": "python",
   "name": "python3"
  },
  "language_info": {
   "codemirror_mode": {
    "name": "ipython",
    "version": 3
   },
   "file_extension": ".py",
   "mimetype": "text/x-python",
   "name": "python",
   "nbconvert_exporter": "python",
   "pygments_lexer": "ipython3",
   "version": "3.12.2"
  }
 },
 "nbformat": 4,
 "nbformat_minor": 2
}
